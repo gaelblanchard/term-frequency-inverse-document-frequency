{
  "cells": [
    {
      "metadata": {
        "_uuid": "5e8594a27c129c76591114b9244f6455b59fe1de"
      },
      "cell_type": "markdown",
      "source": "# Task\nGiven M documents compute the term-term relevance and for output return the term pairs and their similarity score descending\n\nTo calculate term-term relevance:\n1.  Calculate tfidf of every term\n2.  Compute and sort term-term relevance between a term and other terms\n"
    },
    {
      "metadata": {
        "_uuid": "74a6d7da2edaa91ec70f1fdeeceddd47ce38596c"
      },
      "cell_type": "markdown",
      "source": "# Term Frequency Inverse Document Frequency\n![Term Frequency functions](https://upload.wikimedia.org/wikipedia/commons/0/05/Plot_IDF_functions.png)\nTF-IDF is a numerial statistic which symbolizes how important a word is in a document from\na collection of documents. In our context, we are using it first to determine each term's relevance within our collection of documents then using it again to determine similarity scores between term pairs"
    },
    {
      "metadata": {
        "trusted": true,
        "_uuid": "fbfa3e302c0e5276f09a8facb5c42384b5527002",
        "_kg_hide-output": true
      },
      "cell_type": "code",
      "source": "# Need to install pyspark bc it is not available\n!pip install pyspark",
      "execution_count": 1,
      "outputs": [
        {
          "output_type": "stream",
          "text": "Collecting pyspark\n\u001b[?25l  Downloading https://files.pythonhosted.org/packages/88/01/a37e827c2d80c6a754e40e99b9826d978b55254cc6c6672b5b08f2e18a7f/pyspark-2.4.0.tar.gz (213.4MB)\n\u001b[K    100% |████████████████████████████████| 213.4MB 81kB/s  eta 0:00:01   30% |██████████                      | 66.1MB 53.1MB/s eta 0:00:03\n\u001b[?25hCollecting py4j==0.10.7 (from pyspark)\n\u001b[?25l  Downloading https://files.pythonhosted.org/packages/e3/53/c737818eb9a7dc32a7cd4f1396e787bd94200c3997c72c1dbe028587bd76/py4j-0.10.7-py2.py3-none-any.whl (197kB)\n\u001b[K    100% |████████████████████████████████| 204kB 43.9MB/s ta 0:00:01\n\u001b[?25hBuilding wheels for collected packages: pyspark\n  Running setup.py bdist_wheel for pyspark ... \u001b[?25ldone\n\u001b[?25h  Stored in directory: /tmp/.cache/pip/wheels/cd/54/c2/abfcc942eddeaa7101228ebd6127a30dbdf903c72db4235b23\nSuccessfully built pyspark\nInstalling collected packages: py4j, pyspark\nSuccessfully installed py4j-0.10.7 pyspark-2.4.0\n",
          "name": "stdout"
        }
      ]
    },
    {
      "metadata": {
        "_uuid": "8f2839f25d086af736a60e9eeb907d3b93b6e0e5",
        "_cell_guid": "b1076dfc-b9ad-4769-8c92-a6c4dae69d19",
        "trusted": true
      },
      "cell_type": "code",
      "source": "# Libraries\nimport pandas as pd\nimport math\nfrom pyspark import SparkContext, SparkConf\n#import os\n#print(os.listdir(\"../input\"))",
      "execution_count": 2,
      "outputs": []
    },
    {
      "metadata": {
        "trusted": true,
        "_uuid": "4736ff288b51db25939e0d934e4e7bee59b3b823"
      },
      "cell_type": "code",
      "source": "def perform_check(result,print_limit):\n    \"\"\"\n    Takes result of Mapping to a RDD\n    and prints a certain amount of lines\n    \"\"\"\n    limit = print_limit\n    count = 0\n    for x in result.collect():\n        count = count + 1\n        print(x)\n        if count == limit:\n            break",
      "execution_count": 3,
      "outputs": []
    },
    {
      "metadata": {
        "trusted": true,
        "_uuid": "bceb40fb17a2c6957fb70af45b2401b9a40674ca"
      },
      "cell_type": "code",
      "source": "def get_length(result):\n    \"\"\"\n    Takes result of Mapping to a RDD\n    and prints a certain amount of lines\n    \"\"\"\n    count = 0\n    for x in result.collect():\n        count = count + 1\n    print(count)\n    return count",
      "execution_count": 4,
      "outputs": []
    },
    {
      "metadata": {
        "trusted": true,
        "_uuid": "5639bf200a7f811d084efc51645fa2b3c3b54fd8"
      },
      "cell_type": "code",
      "source": "# A Quick Look At Our Data\nsource = pd.read_table(\"../input/project2_data.txt\",header=None)\nsource[0] = source[0].str.split()\nsource[\"doc\"] = source[0].apply(lambda x: x[0])\nsource[\"terms\"] = source[0].apply(lambda x: x[1:])\nsource.head()",
      "execution_count": 5,
      "outputs": [
        {
          "output_type": "execute_result",
          "execution_count": 5,
          "data": {
            "text/plain": "                                                   0                        ...                                                                      terms\n0  [doc1, chem_n-methyl-d-aspartate_chem, recepto...                        ...                          [chem_n-methyl-d-aspartate_chem, receptor, gen...\n1  [doc2, low, dose, chem_n-methyl-d-aspartate_ch...                        ...                          [low, dose, chem_n-methyl-d-aspartate_chem, re...\n2  [doc3, chem_nmda_chem, receptor, gene_nmdars_g...                        ...                          [chem_nmda_chem, receptor, gene_nmdars_gene, i...\n3  [doc4, rodent, primary, somatosensory, cortex,...                        ...                          [rodent, primary, somatosensory, cortex, confi...\n4  [doc5, short-sleep, ss, mouse, exhibit, high, ...                        ...                          [short-sleep, ss, mouse, exhibit, high, locomo...\n\n[5 rows x 3 columns]",
            "text/html": "<div>\n<style scoped>\n    .dataframe tbody tr th:only-of-type {\n        vertical-align: middle;\n    }\n\n    .dataframe tbody tr th {\n        vertical-align: top;\n    }\n\n    .dataframe thead th {\n        text-align: right;\n    }\n</style>\n<table border=\"1\" class=\"dataframe\">\n  <thead>\n    <tr style=\"text-align: right;\">\n      <th></th>\n      <th>0</th>\n      <th>doc</th>\n      <th>terms</th>\n    </tr>\n  </thead>\n  <tbody>\n    <tr>\n      <th>0</th>\n      <td>[doc1, chem_n-methyl-d-aspartate_chem, recepto...</td>\n      <td>doc1</td>\n      <td>[chem_n-methyl-d-aspartate_chem, receptor, gen...</td>\n    </tr>\n    <tr>\n      <th>1</th>\n      <td>[doc2, low, dose, chem_n-methyl-d-aspartate_ch...</td>\n      <td>doc2</td>\n      <td>[low, dose, chem_n-methyl-d-aspartate_chem, re...</td>\n    </tr>\n    <tr>\n      <th>2</th>\n      <td>[doc3, chem_nmda_chem, receptor, gene_nmdars_g...</td>\n      <td>doc3</td>\n      <td>[chem_nmda_chem, receptor, gene_nmdars_gene, i...</td>\n    </tr>\n    <tr>\n      <th>3</th>\n      <td>[doc4, rodent, primary, somatosensory, cortex,...</td>\n      <td>doc4</td>\n      <td>[rodent, primary, somatosensory, cortex, confi...</td>\n    </tr>\n    <tr>\n      <th>4</th>\n      <td>[doc5, short-sleep, ss, mouse, exhibit, high, ...</td>\n      <td>doc5</td>\n      <td>[short-sleep, ss, mouse, exhibit, high, locomo...</td>\n    </tr>\n  </tbody>\n</table>\n</div>"
          },
          "metadata": {}
        }
      ]
    },
    {
      "metadata": {
        "trusted": true,
        "_uuid": "695b6d6ecbb1b63e318eff3da6f78c68ed16136f"
      },
      "cell_type": "code",
      "source": "# Set app name and master for spark\nappName = \"TFIDF\"\nmaster = \"local\"\nconf = SparkConf().setAppName(appName).setMaster(master)\nsc = SparkContext(conf=conf)",
      "execution_count": 6,
      "outputs": []
    },
    {
      "metadata": {
        "_cell_guid": "79c7e3d0-c299-4dcb-8224-4455121ee9b0",
        "_uuid": "d629ff2d2480ee46fbb7e2d37f6b5fab8052498a",
        "trusted": true
      },
      "cell_type": "code",
      "source": "# Convert our given text file for spark\ndata_file_path = \"../input/project2_data.txt\"\nproject2_data = sc.textFile(data_file_path)",
      "execution_count": 7,
      "outputs": []
    },
    {
      "metadata": {
        "trusted": true,
        "_uuid": "b5a275766d232aff00e1904beb8cf1d3cf26a8a5"
      },
      "cell_type": "code",
      "source": "key_value = project2_data.map(lambda x: x.split())",
      "execution_count": 8,
      "outputs": []
    },
    {
      "metadata": {
        "trusted": true,
        "_uuid": "48b2f0c4a363fd96b78e465d0b92db4cef626023"
      },
      "cell_type": "code",
      "source": "# Get the total number of documents in corpus\n# Necessary for our TF-IDF calculation\nTOTAL_DOCS = get_length(key_value)",
      "execution_count": 9,
      "outputs": [
        {
          "output_type": "stream",
          "text": "8357\n",
          "name": "stdout"
        }
      ]
    },
    {
      "metadata": {
        "trusted": true,
        "_uuid": "a1c84a9dde043df59f32a13f47bada045597072d",
        "_kg_hide-output": true
      },
      "cell_type": "code",
      "source": "perform_check(key_value,1)",
      "execution_count": 10,
      "outputs": [
        {
          "output_type": "stream",
          "text": "['doc1', 'chem_n-methyl-d-aspartate_chem', 'receptor', 'gene_nmdars_gene', 'represent', 'subclass', 'chem_glutamate_chem', 'receptor', 'play', 'critical', 'role', 'neuronal', 'development', 'physiology', 'report', 'here', 'generation', 'mouse', 'express', 'normal', 'level', 'essential', 'nmdar1', 'nr1', 'subunit', 'unlike', 'nr1', 'null', 'mouse', 'mouse', 'survive', 'adulthood', 'display', 'behavioral', 'abnormality', 'include', 'increase', 'motor', 'activity', 'stereotypy', 'deficit', 'social', 'sexual', 'interaction', 'behavioral', 'alteration', 'similar', 'those', 'observe', 'pharmacological', 'induce', 'animal', 'model', 'disease_schizophrenia_disease', 'ameliorate', 'treatment', 'chem_haloperidol_chem', 'chem_clozapine_chem', 'antipsychotic', 'drug', 'antagonize', 'dopaminergic', 'serotonergic', 'receptor', 'finding', 'support', 'model', 'reduce', 'chem_nmda_chem', 'receptor', 'activity', 'result', 'schizophrenic-like', 'disease_behavior_disease', 'reveal', 'pharmacological', 'manipulation', 'monoaminergic', 'pathway', 'affect', 'phenotype']\n",
          "name": "stdout"
        }
      ]
    },
    {
      "metadata": {
        "trusted": true,
        "_uuid": "bfb9fc59d09a58f434edf469bd5e1fc4f987effc"
      },
      "cell_type": "code",
      "source": "def Filter_Terms(x):\n    \"\"\"\n    Filters all extraneous terms within the list\n    of the terms that we have to consider\n    In this case we want to get the words\n    with the following formats:\n    (1) gene_word_gene\n    (2) disease_word_disease\n    \"\"\"\n    relevant_terms = []\n    for word in x[1:]:\n        if (word.startswith(\"gene_\") and word.endswith(\"_gene\")):\n            relevant_terms.append((word,x[0]))\n        if (word.startswith(\"disease_\") and word.endswith(\"_disease\")):\n            relevant_terms.append((word,x[0]))\n    return relevant_terms",
      "execution_count": 11,
      "outputs": []
    },
    {
      "metadata": {
        "trusted": true,
        "_uuid": "e234fdff9f691c17974b8493e53e4d1b566891bf"
      },
      "cell_type": "code",
      "source": "word_count = key_value.flatMap(lambda x: Filter_Terms(x))\\\n.map(lambda x: (x, 1))\\\n.reduceByKey(lambda x, y: x + y)",
      "execution_count": 12,
      "outputs": []
    },
    {
      "metadata": {
        "trusted": true,
        "_uuid": "6c75088c5b62cee2b70cbc020be47b6e76f83ea0",
        "_kg_hide-output": true
      },
      "cell_type": "code",
      "source": "perform_check(word_count,5)",
      "execution_count": 13,
      "outputs": [
        {
          "output_type": "stream",
          "text": "(('gene_nmdars_gene', 'doc1'), 1)\n(('disease_schizophrenia_disease', 'doc1'), 1)\n(('disease_behavior_disease', 'doc1'), 1)\n(('disease_ls_disease', 'doc2'), 3)\n(('disease_ss_disease', 'doc2'), 3)\n",
          "name": "stdout"
        }
      ]
    },
    {
      "metadata": {
        "trusted": true,
        "_uuid": "17a5c06bc20da062ca11ea1db21f4d073358f1c6"
      },
      "cell_type": "code",
      "source": "def Get_All_Pairs(x):\n    \"\"\"\n    Gathers all word doc pairs and\n    resturctures so we have all words\n    followed by their counts for each doc\n    \"\"\"\n    docid_word_pair = x[0]\n    word_count = x[1]\n    unique_word = docid_word_pair[0]\n    docid = docid_word_pair[1]\n    return (docid, list((unique_word,word_count)))",
      "execution_count": 14,
      "outputs": []
    },
    {
      "metadata": {
        "trusted": true,
        "_uuid": "d9db8384c7d35281a49e5e1eeb3bf77fa3aff3cc"
      },
      "cell_type": "code",
      "source": "doc_word_counts = word_count.map(lambda x: Get_All_Pairs(x))\\\n.cache()\\\n.reduceByKey(lambda x, y: x + y)",
      "execution_count": 15,
      "outputs": []
    },
    {
      "metadata": {
        "trusted": true,
        "_uuid": "af6c62c1de7f69a6396a99ec4ee5ca678e0e8613",
        "_kg_hide-output": true
      },
      "cell_type": "code",
      "source": "perform_check(doc_word_counts,5)",
      "execution_count": 16,
      "outputs": [
        {
          "output_type": "stream",
          "text": "('doc1', ['gene_nmdars_gene', 1, 'disease_schizophrenia_disease', 1, 'disease_behavior_disease', 1])\n('doc2', ['disease_ls_disease', 3, 'disease_ss_disease', 3, 'gene_nmdars_gene', 3])\n('doc3', ['gene_nmdars_gene', 3])\n('doc4', ['gene_nmdars_gene', 2])\n('doc5', ['gene_nmdars_gene', 5])\n",
          "name": "stdout"
        }
      ]
    },
    {
      "metadata": {
        "trusted": true,
        "_uuid": "58790d2df48949e4a112f8fbf6a11fbc2d7d9ad6"
      },
      "cell_type": "code",
      "source": "def CreateTuple(x):\n    \"\"\"\n    Gathers word and their counts\n    from the list and puts\n    them in tuples with the format:\n    (word,word_count)\n    This way a word and it's count\n    is explicit\n    \"\"\"\n    docid = x[0]\n    converted_list = []\n    tuple_list = x[1]\n    for i in range(0, len(tuple_list), 2):\n        converted_list.append((tuple_list[i], tuple_list[i+1]))\n    return (docid, converted_list)",
      "execution_count": 17,
      "outputs": []
    },
    {
      "metadata": {
        "trusted": true,
        "_uuid": "293287e0147e80c2c327464becf9538bbf4f59a5"
      },
      "cell_type": "code",
      "source": "tuple_result = doc_word_counts.map(lambda x: CreateTuple(x))",
      "execution_count": 18,
      "outputs": []
    },
    {
      "metadata": {
        "trusted": true,
        "_uuid": "e719786d9b09a455d030ec41a68053b15d0417b8",
        "_kg_hide-output": true
      },
      "cell_type": "code",
      "source": "perform_check(tuple_result,1)",
      "execution_count": 19,
      "outputs": [
        {
          "output_type": "stream",
          "text": "('doc1', [('gene_nmdars_gene', 1), ('disease_schizophrenia_disease', 1), ('disease_behavior_disease', 1)])\n",
          "name": "stdout"
        }
      ]
    },
    {
      "metadata": {
        "trusted": true,
        "_uuid": "9387a1a99d85ec962268fdb83840c60499e6eb07"
      },
      "cell_type": "code",
      "source": "def WordCountPerDoc(x):\n    \"\"\"\n    Gets word and its document pair and reports \n    the occurences of the word in the document and the total\n    number of words in the document in the following\n    format:\n    ((word,doc),(word occurences,total # of words in doc))\n    \"\"\"\n    list_ = []\n    docid = x[0]\n    list_of_tuples = x[1]\n    number_of_terms_in_doc = 0\n    for each_tuple in list_of_tuples:\n        number_of_terms_in_doc += each_tuple[1]\n    for each in list_of_tuples:\n        unique_word = each[0]\n        word_occurences = each[1]\n        list_.append(\n            (\n                (unique_word, docid),\n                (word_occurences, number_of_terms_in_doc)\n            )\n        )\n    return list_",
      "execution_count": 20,
      "outputs": []
    },
    {
      "metadata": {
        "trusted": true,
        "_uuid": "3f13321c3cedc9c0b83f3ee871fea00361bf3926"
      },
      "cell_type": "code",
      "source": "word_count_per_doc= tuple_result.flatMap(lambda x: WordCountPerDoc(x))",
      "execution_count": 21,
      "outputs": []
    },
    {
      "metadata": {
        "trusted": true,
        "_uuid": "064b236c4cdb6befaf45c4ce161fd1ab2b4f1260",
        "_kg_hide-output": true
      },
      "cell_type": "code",
      "source": "perform_check(word_count_per_doc,5)",
      "execution_count": 22,
      "outputs": [
        {
          "output_type": "stream",
          "text": "(('gene_nmdars_gene', 'doc1'), (1, 3))\n(('disease_schizophrenia_disease', 'doc1'), (1, 3))\n(('disease_behavior_disease', 'doc1'), (1, 3))\n(('disease_ls_disease', 'doc2'), (3, 9))\n(('disease_ss_disease', 'doc2'), (3, 9))\n",
          "name": "stdout"
        }
      ]
    },
    {
      "metadata": {
        "trusted": true,
        "_uuid": "adf2e74d7ac51c4a446674a7e7c7c2d1ead9cb19"
      },
      "cell_type": "code",
      "source": "def All_Doc_Word_Count_Pairs(x):\n    \"\"\"\n    Get all word counts and the total\n    counts for each document within our\n    database\n    \"\"\"\n    word_and_doc = x[0]\n    word = word_and_doc[0]\n    docid = word_and_doc[1]\n    word_count_and_total_word_in_doc = x[1]\n    word_count = word_count_and_total_word_in_doc[0]\n    total_word_count = word_count_and_total_word_in_doc[1]\n    return (word, (docid, word_count, total_word_count)) ",
      "execution_count": 23,
      "outputs": []
    },
    {
      "metadata": {
        "trusted": true,
        "_uuid": "44f6bfb0ae24750c1efd8a6be81b6ca8ec66e22a"
      },
      "cell_type": "code",
      "source": "word_per_doc = word_count_per_doc.map(lambda x: All_Doc_Word_Count_Pairs(x))\\\n.cache()\\\n.reduceByKey(lambda x, y: x + y)",
      "execution_count": 24,
      "outputs": []
    },
    {
      "metadata": {
        "trusted": true,
        "scrolled": true,
        "_uuid": "669e25035eefa998dcc3f583b1c31f920d93aa0f",
        "_kg_hide-output": true
      },
      "cell_type": "code",
      "source": "perform_check(word_per_doc,1)",
      "execution_count": 25,
      "outputs": [
        {
          "output_type": "stream",
          "text": "('gene_nmdars_gene', ('doc1', 1, 3, 'doc2', 3, 9, 'doc3', 3, 3, 'doc4', 2, 2, 'doc5', 5, 5, 'doc6', 1, 1, 'doc7', 2, 2, 'doc8', 2, 2, 'doc9', 3, 5, 'doc10', 2, 3, 'doc11', 4, 4, 'doc12', 5, 14, 'doc13', 1, 2, 'doc14', 1, 6, 'doc15', 2, 3, 'doc16', 3, 7, 'doc17', 1, 1, 'doc18', 4, 4, 'doc19', 1, 4, 'doc20', 2, 8, 'doc21', 2, 8, 'doc22', 1, 1, 'doc23', 1, 1, 'doc24', 1, 1, 'doc25', 1, 11, 'doc26', 1, 8, 'doc27', 4, 11, 'doc28', 2, 3, 'doc29', 1, 1, 'doc30', 7, 7, 'doc31', 2, 2, 'doc32', 5, 5, 'doc33', 1, 17, 'doc34', 2, 2, 'doc35', 1, 8, 'doc36', 2, 2, 'doc37', 1, 4, 'doc38', 3, 3, 'doc39', 2, 2, 'doc40', 1, 6, 'doc41', 3, 3, 'doc42', 2, 9, 'doc43', 1, 1, 'doc44', 1, 2, 'doc45', 3, 5, 'doc46', 1, 1, 'doc47', 1, 1, 'doc48', 3, 6, 'doc49', 1, 1, 'doc50', 3, 3, 'doc51', 2, 2, 'doc52', 2, 9, 'doc53', 1, 6, 'doc54', 2, 13, 'doc55', 2, 9, 'doc56', 1, 2, 'doc57', 2, 2, 'doc58', 3, 4, 'doc59', 3, 16, 'doc60', 2, 2, 'doc61', 2, 2, 'doc62', 2, 11, 'doc63', 2, 2, 'doc64', 2, 6, 'doc65', 1, 2, 'doc66', 1, 1, 'doc67', 3, 3, 'doc68', 1, 2, 'doc69', 1, 1, 'doc70', 3, 3, 'doc71', 5, 10, 'doc72', 6, 7, 'doc73', 1, 1, 'doc74', 9, 10, 'doc75', 1, 4, 'doc76', 1, 11, 'doc77', 3, 3, 'doc78', 1, 1, 'doc79', 1, 5, 'doc80', 2, 2, 'doc81', 6, 7, 'doc82', 1, 3, 'doc83', 1, 2, 'doc84', 1, 2, 'doc85', 2, 2, 'doc86', 2, 3, 'doc87', 1, 3, 'doc88', 1, 2, 'doc89', 3, 8, 'doc90', 6, 7, 'doc91', 3, 11, 'doc92', 3, 6, 'doc93', 3, 3, 'doc94', 3, 4, 'doc95', 4, 4, 'doc96', 4, 7, 'doc97', 1, 1, 'doc98', 1, 2, 'doc99', 1, 2, 'doc100', 1, 4, 'doc101', 2, 2, 'doc102', 2, 2, 'doc103', 1, 3, 'doc104', 1, 1, 'doc105', 5, 5, 'doc106', 5, 5, 'doc107', 3, 21, 'doc108', 1, 1))\n",
          "name": "stdout"
        }
      ]
    },
    {
      "metadata": {
        "trusted": true,
        "_uuid": "0d379f8021f9c049d92af3f9cc186763a3d061ff"
      },
      "cell_type": "code",
      "source": "def All_Word_Count_Pairs(x):\n    \"\"\"\n    From list forms tuples\n    of word and every document it appears\n    and the total number words in that document\n    \"\"\"\n    list_ = []\n    word = x[0]\n    tuple_list = x[1]\n    for i in range(0,len(tuple_list),3):\n        list_.append((tuple_list[i], tuple_list[i+1], tuple_list[i+2]))\n    return (word, list_)",
      "execution_count": 26,
      "outputs": []
    },
    {
      "metadata": {
        "trusted": true,
        "_uuid": "8cc0abe73a5a89323342ef0f4fec0bdc8b786218"
      },
      "cell_type": "code",
      "source": "all_doc_word_counts= word_per_doc.map(lambda x: All_Word_Count_Pairs(x))",
      "execution_count": 27,
      "outputs": []
    },
    {
      "metadata": {
        "trusted": true,
        "_uuid": "5633e890c2948457398070f5896d36edbacd9b41",
        "_kg_hide-output": true
      },
      "cell_type": "code",
      "source": "perform_check(all_doc_word_counts,1)",
      "execution_count": 28,
      "outputs": [
        {
          "output_type": "stream",
          "text": "('gene_nmdars_gene', [('doc1', 1, 3), ('doc2', 3, 9), ('doc3', 3, 3), ('doc4', 2, 2), ('doc5', 5, 5), ('doc6', 1, 1), ('doc7', 2, 2), ('doc8', 2, 2), ('doc9', 3, 5), ('doc10', 2, 3), ('doc11', 4, 4), ('doc12', 5, 14), ('doc13', 1, 2), ('doc14', 1, 6), ('doc15', 2, 3), ('doc16', 3, 7), ('doc17', 1, 1), ('doc18', 4, 4), ('doc19', 1, 4), ('doc20', 2, 8), ('doc21', 2, 8), ('doc22', 1, 1), ('doc23', 1, 1), ('doc24', 1, 1), ('doc25', 1, 11), ('doc26', 1, 8), ('doc27', 4, 11), ('doc28', 2, 3), ('doc29', 1, 1), ('doc30', 7, 7), ('doc31', 2, 2), ('doc32', 5, 5), ('doc33', 1, 17), ('doc34', 2, 2), ('doc35', 1, 8), ('doc36', 2, 2), ('doc37', 1, 4), ('doc38', 3, 3), ('doc39', 2, 2), ('doc40', 1, 6), ('doc41', 3, 3), ('doc42', 2, 9), ('doc43', 1, 1), ('doc44', 1, 2), ('doc45', 3, 5), ('doc46', 1, 1), ('doc47', 1, 1), ('doc48', 3, 6), ('doc49', 1, 1), ('doc50', 3, 3), ('doc51', 2, 2), ('doc52', 2, 9), ('doc53', 1, 6), ('doc54', 2, 13), ('doc55', 2, 9), ('doc56', 1, 2), ('doc57', 2, 2), ('doc58', 3, 4), ('doc59', 3, 16), ('doc60', 2, 2), ('doc61', 2, 2), ('doc62', 2, 11), ('doc63', 2, 2), ('doc64', 2, 6), ('doc65', 1, 2), ('doc66', 1, 1), ('doc67', 3, 3), ('doc68', 1, 2), ('doc69', 1, 1), ('doc70', 3, 3), ('doc71', 5, 10), ('doc72', 6, 7), ('doc73', 1, 1), ('doc74', 9, 10), ('doc75', 1, 4), ('doc76', 1, 11), ('doc77', 3, 3), ('doc78', 1, 1), ('doc79', 1, 5), ('doc80', 2, 2), ('doc81', 6, 7), ('doc82', 1, 3), ('doc83', 1, 2), ('doc84', 1, 2), ('doc85', 2, 2), ('doc86', 2, 3), ('doc87', 1, 3), ('doc88', 1, 2), ('doc89', 3, 8), ('doc90', 6, 7), ('doc91', 3, 11), ('doc92', 3, 6), ('doc93', 3, 3), ('doc94', 3, 4), ('doc95', 4, 4), ('doc96', 4, 7), ('doc97', 1, 1), ('doc98', 1, 2), ('doc99', 1, 2), ('doc100', 1, 4), ('doc101', 2, 2), ('doc102', 2, 2), ('doc103', 1, 3), ('doc104', 1, 1), ('doc105', 5, 5), ('doc106', 5, 5), ('doc107', 3, 21), ('doc108', 1, 1)])\n",
          "name": "stdout"
        }
      ]
    },
    {
      "metadata": {
        "trusted": true,
        "_uuid": "041674c28dcd9bd335fe73f5e1ee6078acd6d420"
      },
      "cell_type": "code",
      "source": "def CountDocsPerWord(x):\n    \"\"\"\n    Determines the number of documents\n    a term appears in\n    \"\"\"\n    list_ = []\n    docsPerWord = 0\n    word = x[0]\n    tuple_list = x[1]\n    for each in tuple_list:\n        docsPerWord += 1\n    for each in tuple_list:\n        docid = each[0]\n        word_count = each[1]\n        total_w_count = each[2]\n        list_.append(\n            (\n                (word, docid),\n                (word_count, total_w_count, docsPerWord)\n            )\n        )\n    return list_",
      "execution_count": 29,
      "outputs": []
    },
    {
      "metadata": {
        "trusted": true,
        "_uuid": "bb875f54e7f0b8fa2c10eb5ddb6c04fb4a4867c6"
      },
      "cell_type": "code",
      "source": "docs_per_word_result = all_doc_word_counts.flatMap(lambda x: CountDocsPerWord(x))",
      "execution_count": 30,
      "outputs": []
    },
    {
      "metadata": {
        "trusted": true,
        "_uuid": "56eb3402873e123e626f5058ac4cbc84e1c4c534",
        "_kg_hide-output": true
      },
      "cell_type": "code",
      "source": "perform_check(docs_per_word_result,5)",
      "execution_count": 31,
      "outputs": [
        {
          "output_type": "stream",
          "text": "(('gene_nmdars_gene', 'doc1'), (1, 3, 108))\n(('gene_nmdars_gene', 'doc2'), (3, 9, 108))\n(('gene_nmdars_gene', 'doc3'), (3, 3, 108))\n(('gene_nmdars_gene', 'doc4'), (2, 2, 108))\n(('gene_nmdars_gene', 'doc5'), (5, 5, 108))\n",
          "name": "stdout"
        }
      ]
    },
    {
      "metadata": {
        "trusted": true,
        "_uuid": "8a6749ff2f2074027fa7db0c2ac3faa160056144"
      },
      "cell_type": "code",
      "source": "def TFIDF(x,total_docs):\n    \"\"\"\n    Calculates the term-frequency inverse document frequency\n    for each term\n    \"\"\"\n    term_name = x[0][0]\n    second_tuple = x[1]\n    term_word_count = second_tuple[0]\n    all_word_count = second_tuple[1]\n    docs_with_term = second_tuple[2]\n    term_frequency = term_word_count / all_word_count\n    inverse_doc_frequency = math.log(total_docs/docs_with_term)\n    tfidf = term_frequency * inverse_doc_frequency\n    return (term_name, tfidf)    ",
      "execution_count": 32,
      "outputs": []
    },
    {
      "metadata": {
        "trusted": true,
        "_uuid": "7839fe4a924b4fb27fc7a2ecaa22bfbcc8d4c5d8"
      },
      "cell_type": "code",
      "source": "tfidf_result = docs_per_word_result.map(lambda x: TFIDF(x,TOTAL_DOCS)).groupByKey()",
      "execution_count": 33,
      "outputs": []
    },
    {
      "metadata": {
        "trusted": true,
        "_uuid": "fa140b7efa78b5421a096526ec839c4dbe612ddf",
        "_kg_hide-output": true
      },
      "cell_type": "code",
      "source": "perform_check(tfidf_result,3)",
      "execution_count": 34,
      "outputs": [
        {
          "output_type": "stream",
          "text": "('gene_nmdars_gene', <pyspark.resultiterable.ResultIterable object at 0x7f133f0303c8>)\n('disease_schizophrenia_disease', <pyspark.resultiterable.ResultIterable object at 0x7f133f030438>)\n('disease_behavior_disease', <pyspark.resultiterable.ResultIterable object at 0x7f133f0304a8>)\n",
          "name": "stdout"
        }
      ]
    },
    {
      "metadata": {
        "trusted": true,
        "_uuid": "092c9e263d46a3d4e2a28956d1f27d7ff0d559f6"
      },
      "cell_type": "code",
      "source": "# Gathers all calculated tfidf by\n# term\ntfidf = tfidf_result.cache().map(lambda x: (x[0], list(x[1])))",
      "execution_count": 35,
      "outputs": []
    },
    {
      "metadata": {
        "trusted": true,
        "_uuid": "ba4d8ab88ced0dc450981c6e5759a2a654d274a1",
        "_kg_hide-output": true
      },
      "cell_type": "code",
      "source": "perform_check(tfidf,1)",
      "execution_count": 36,
      "outputs": [
        {
          "output_type": "stream",
          "text": "('gene_nmdars_gene', [1.449574520959072, 1.449574520959072, 4.3487235628772165, 4.3487235628772165, 4.3487235628772165, 4.3487235628772165, 4.3487235628772165, 4.3487235628772165, 2.6092341377263297, 2.899149041918144, 4.3487235628772165, 1.5531155581704346, 2.1743617814386083, 0.724787260479536, 2.899149041918144, 1.8637386698045213, 4.3487235628772165, 4.3487235628772165, 1.0871808907193041, 1.0871808907193041, 1.0871808907193041, 4.3487235628772165, 4.3487235628772165, 4.3487235628772165, 0.3953385057161106, 0.5435904453596521, 1.5813540228644425, 2.899149041918144, 4.3487235628772165, 4.3487235628772165, 4.3487235628772165, 4.3487235628772165, 0.25580726840454215, 4.3487235628772165, 0.5435904453596521, 4.3487235628772165, 1.0871808907193041, 4.3487235628772165, 4.3487235628772165, 0.724787260479536, 4.3487235628772165, 0.9663830139727148, 4.3487235628772165, 2.1743617814386083, 2.6092341377263297, 4.3487235628772165, 4.3487235628772165, 2.1743617814386083, 4.3487235628772165, 4.3487235628772165, 4.3487235628772165, 0.9663830139727148, 0.724787260479536, 0.6690343942888026, 0.9663830139727148, 2.1743617814386083, 4.3487235628772165, 3.2615426721579124, 0.8153856680394781, 4.3487235628772165, 4.3487235628772165, 0.7906770114322212, 4.3487235628772165, 1.449574520959072, 2.1743617814386083, 4.3487235628772165, 4.3487235628772165, 2.1743617814386083, 4.3487235628772165, 4.3487235628772165, 2.1743617814386083, 3.7274773396090426, 4.3487235628772165, 3.913851206589495, 1.0871808907193041, 0.3953385057161106, 4.3487235628772165, 4.3487235628772165, 0.8697447125754434, 4.3487235628772165, 3.7274773396090426, 1.449574520959072, 2.1743617814386083, 2.1743617814386083, 4.3487235628772165, 2.899149041918144, 1.449574520959072, 2.1743617814386083, 1.6307713360789562, 3.7274773396090426, 1.1860155171483318, 2.1743617814386083, 4.3487235628772165, 3.2615426721579124, 4.3487235628772165, 2.484984893072695, 4.3487235628772165, 2.1743617814386083, 2.1743617814386083, 1.0871808907193041, 4.3487235628772165, 4.3487235628772165, 1.449574520959072, 4.3487235628772165, 4.3487235628772165, 4.3487235628772165, 0.6212462232681738, 4.3487235628772165])\n",
          "name": "stdout"
        }
      ]
    },
    {
      "metadata": {
        "trusted": true,
        "_uuid": "231abc956b74d751535a231c006f837fd377c96c"
      },
      "cell_type": "code",
      "source": "def GetQueryVector(x, query_term):\n    \"\"\"\n    Will return the vector for the query term\n    \"\"\"\n    if x[0] == query_term:\n        return True\n    return False",
      "execution_count": 37,
      "outputs": []
    },
    {
      "metadata": {
        "trusted": true,
        "_uuid": "eb07bc5f28ffdaf30839b5cfaef307fd5c3fed30"
      },
      "cell_type": "code",
      "source": "query_term = 'gene_nmdars_gene'",
      "execution_count": 38,
      "outputs": []
    },
    {
      "metadata": {
        "trusted": true,
        "_uuid": "d7f3dde418fc1ec47dab2500600e9897002425d2"
      },
      "cell_type": "code",
      "source": "query_vector = tfidf.filter(lambda x: GetQueryVector(x, query_term))",
      "execution_count": 39,
      "outputs": []
    },
    {
      "metadata": {
        "trusted": true,
        "_uuid": "60a4b01810e26fda924325c169b7cca7190ea03e",
        "_kg_hide-output": true
      },
      "cell_type": "code",
      "source": "perform_check(query_vector,1)",
      "execution_count": 40,
      "outputs": [
        {
          "output_type": "stream",
          "text": "('gene_nmdars_gene', [1.449574520959072, 1.449574520959072, 4.3487235628772165, 4.3487235628772165, 4.3487235628772165, 4.3487235628772165, 4.3487235628772165, 4.3487235628772165, 2.6092341377263297, 2.899149041918144, 4.3487235628772165, 1.5531155581704346, 2.1743617814386083, 0.724787260479536, 2.899149041918144, 1.8637386698045213, 4.3487235628772165, 4.3487235628772165, 1.0871808907193041, 1.0871808907193041, 1.0871808907193041, 4.3487235628772165, 4.3487235628772165, 4.3487235628772165, 0.3953385057161106, 0.5435904453596521, 1.5813540228644425, 2.899149041918144, 4.3487235628772165, 4.3487235628772165, 4.3487235628772165, 4.3487235628772165, 0.25580726840454215, 4.3487235628772165, 0.5435904453596521, 4.3487235628772165, 1.0871808907193041, 4.3487235628772165, 4.3487235628772165, 0.724787260479536, 4.3487235628772165, 0.9663830139727148, 4.3487235628772165, 2.1743617814386083, 2.6092341377263297, 4.3487235628772165, 4.3487235628772165, 2.1743617814386083, 4.3487235628772165, 4.3487235628772165, 4.3487235628772165, 0.9663830139727148, 0.724787260479536, 0.6690343942888026, 0.9663830139727148, 2.1743617814386083, 4.3487235628772165, 3.2615426721579124, 0.8153856680394781, 4.3487235628772165, 4.3487235628772165, 0.7906770114322212, 4.3487235628772165, 1.449574520959072, 2.1743617814386083, 4.3487235628772165, 4.3487235628772165, 2.1743617814386083, 4.3487235628772165, 4.3487235628772165, 2.1743617814386083, 3.7274773396090426, 4.3487235628772165, 3.913851206589495, 1.0871808907193041, 0.3953385057161106, 4.3487235628772165, 4.3487235628772165, 0.8697447125754434, 4.3487235628772165, 3.7274773396090426, 1.449574520959072, 2.1743617814386083, 2.1743617814386083, 4.3487235628772165, 2.899149041918144, 1.449574520959072, 2.1743617814386083, 1.6307713360789562, 3.7274773396090426, 1.1860155171483318, 2.1743617814386083, 4.3487235628772165, 3.2615426721579124, 4.3487235628772165, 2.484984893072695, 4.3487235628772165, 2.1743617814386083, 2.1743617814386083, 1.0871808907193041, 4.3487235628772165, 4.3487235628772165, 1.449574520959072, 4.3487235628772165, 4.3487235628772165, 4.3487235628772165, 0.6212462232681738, 4.3487235628772165])\n",
          "name": "stdout"
        }
      ]
    },
    {
      "metadata": {
        "trusted": true,
        "_uuid": "89ce907cd74c88f0e50c5c895cd6610b5979b449"
      },
      "cell_type": "code",
      "source": "def FilterOutQuery(x):\n    \"\"\"\n    Filter out query terms\n    \"\"\"\n    if x[0] == query_term:\n        return False\n    else:\n        return True",
      "execution_count": 41,
      "outputs": []
    },
    {
      "metadata": {
        "trusted": true,
        "_uuid": "fb93cf22c42acef5d59d205649f6261fc14aa785"
      },
      "cell_type": "code",
      "source": "cartesian_filter = tfidf.filter(lambda x: FilterOutQuery(x))\\\n.cache()\\\n.cartesian(query_vector)\\",
      "execution_count": 42,
      "outputs": []
    },
    {
      "metadata": {
        "trusted": true,
        "_uuid": "d9e009455a74e59b72f8a327959ca6182c4f7180",
        "_kg_hide-output": true
      },
      "cell_type": "code",
      "source": "perform_check(cartesian_filter,1)",
      "execution_count": 43,
      "outputs": [
        {
          "output_type": "stream",
          "text": "(('disease_schizophrenia_disease', [1.6511057820319055, 1.1007371880212704, 2.4766586730478584, 1.2383293365239292, 0.8255528910159528, 1.2383293365239292, 0.8255528910159528, 2.4766586730478584, 2.4766586730478584, 2.830467054911838, 4.953317346095717, 0.5827432171877314, 1.6511057820319055, 2.4766586730478584, 0.9906634692191434, 4.127764455079764, 0.9906634692191434, 1.6511057820319055, 2.4766586730478584, 0.8255528910159528, 0.9906634692191434, 1.1430732337143963, 2.4766586730478584, 0.6191646682619646, 4.953317346095717, 4.953317346095717, 3.9626538768765736, 0.8255528910159528, 1.6511057820319055, 0.9906634692191434, 0.7076167637279595, 1.2383293365239292, 0.4953317346095717, 0.7076167637279595, 2.4766586730478584, 1.2383293365239292, 1.9813269384382868, 0.6191646682619646, 1.2383293365239292, 1.6511057820319055, 2.4766586730478584, 4.953317346095717, 1.2383293365239292, 0.9906634692191434, 1.6511057820319055, 0.5503685940106352, 2.4766586730478584, 1.6511057820319055, 0.9906634692191434, 0.6191646682619646, 2.4766586730478584, 0.9906634692191434, 4.953317346095717, 1.2383293365239292, 1.2383293365239292, 0.5503685940106352, 1.6511057820319055, 1.6511057820319055, 1.2383293365239292]), ('gene_nmdars_gene', [1.449574520959072, 1.449574520959072, 4.3487235628772165, 4.3487235628772165, 4.3487235628772165, 4.3487235628772165, 4.3487235628772165, 4.3487235628772165, 2.6092341377263297, 2.899149041918144, 4.3487235628772165, 1.5531155581704346, 2.1743617814386083, 0.724787260479536, 2.899149041918144, 1.8637386698045213, 4.3487235628772165, 4.3487235628772165, 1.0871808907193041, 1.0871808907193041, 1.0871808907193041, 4.3487235628772165, 4.3487235628772165, 4.3487235628772165, 0.3953385057161106, 0.5435904453596521, 1.5813540228644425, 2.899149041918144, 4.3487235628772165, 4.3487235628772165, 4.3487235628772165, 4.3487235628772165, 0.25580726840454215, 4.3487235628772165, 0.5435904453596521, 4.3487235628772165, 1.0871808907193041, 4.3487235628772165, 4.3487235628772165, 0.724787260479536, 4.3487235628772165, 0.9663830139727148, 4.3487235628772165, 2.1743617814386083, 2.6092341377263297, 4.3487235628772165, 4.3487235628772165, 2.1743617814386083, 4.3487235628772165, 4.3487235628772165, 4.3487235628772165, 0.9663830139727148, 0.724787260479536, 0.6690343942888026, 0.9663830139727148, 2.1743617814386083, 4.3487235628772165, 3.2615426721579124, 0.8153856680394781, 4.3487235628772165, 4.3487235628772165, 0.7906770114322212, 4.3487235628772165, 1.449574520959072, 2.1743617814386083, 4.3487235628772165, 4.3487235628772165, 2.1743617814386083, 4.3487235628772165, 4.3487235628772165, 2.1743617814386083, 3.7274773396090426, 4.3487235628772165, 3.913851206589495, 1.0871808907193041, 0.3953385057161106, 4.3487235628772165, 4.3487235628772165, 0.8697447125754434, 4.3487235628772165, 3.7274773396090426, 1.449574520959072, 2.1743617814386083, 2.1743617814386083, 4.3487235628772165, 2.899149041918144, 1.449574520959072, 2.1743617814386083, 1.6307713360789562, 3.7274773396090426, 1.1860155171483318, 2.1743617814386083, 4.3487235628772165, 3.2615426721579124, 4.3487235628772165, 2.484984893072695, 4.3487235628772165, 2.1743617814386083, 2.1743617814386083, 1.0871808907193041, 4.3487235628772165, 4.3487235628772165, 1.449574520959072, 4.3487235628772165, 4.3487235628772165, 4.3487235628772165, 0.6212462232681738, 4.3487235628772165]))\n",
          "name": "stdout"
        }
      ]
    },
    {
      "metadata": {
        "trusted": true,
        "_uuid": "01577d54b0fa2c61cf6477b5fd63fcfeccaaa958"
      },
      "cell_type": "code",
      "source": "def SemanticSimilarity(x):\n    \"\"\"\n    Calculates the Semantic Similarity\n    for all term-term pairs\n    \"\"\"\n    A_vector = x[0][1]\n    B_vector = x[1][1]\n    A_denominator = 0\n    B_denominator = 0\n    A_B_denominator = 0\n    A_B_numerator = 0\n    semantic_similarity = 0\n    \n    #calculates the denominator part for the A vector \n    for i in range(0, len(A_vector), 1):\n        A_denominator += A_vector[i] * A_vector[i]\n\n    A_denominator = math.sqrt(A_denominator)\n    \n    #calculates the denominator part for the B vector\n    for i in range(0, len(B_vector), 1):\n        B_denominator += B_vector[i] * B_vector[i]\n\n    B_denominator = math.sqrt(B_denominator)\n    \n    #makes the vectors equal sized in order \n    #to allow multiplication of both vectors\n    if len(B_vector) <= len(A_vector):\n        difference = len(A_vector) - len(B_vector)\n        for i in range(difference):\n            B_vector.append(0)\n    elif len(A_vector) <= len(B_vector):\n        difference = len(B_vector) - len(A_vector)\n        for i in range(difference):\n            A_vector.append(0)\n\n    #multiplies each element of A and B to find the numerator \n    #of the semantic similarity formula\n    for i in range(len(A_vector)):\n        A_B_numerator += A_vector[i] * B_vector[i]\n    \n    #calculates the denominator of the semantic similarity formula\n    A_B_denominator = A_denominator * B_denominator\n    \n    #output is ((A-term, B-term), semantic similarity)\n    return (x[1][0], x[0][0]), A_B_numerator/A_B_denominator",
      "execution_count": 44,
      "outputs": []
    },
    {
      "metadata": {
        "trusted": true,
        "_uuid": "071e0fbc4e8a7998590501ae2c2ab92c293a9670"
      },
      "cell_type": "code",
      "source": "semantic_result = cartesian_filter.map(lambda x: SemanticSimilarity(x))\\\n.map(lambda x: (x[1], x[0]))\\\n.sortByKey(False)\\\n.map(lambda x: (x[1], x[0]))\\",
      "execution_count": 45,
      "outputs": []
    },
    {
      "metadata": {
        "trusted": true,
        "_uuid": "02ee1c8b19f1d3b2cbb922be976b42fd58a0c9fb",
        "_kg_hide-output": true
      },
      "cell_type": "code",
      "source": "perform_check(semantic_result,1)",
      "execution_count": 46,
      "outputs": [
        {
          "output_type": "stream",
          "text": "(('gene_nmdars_gene', 'gene_bovine_rhodopsin_gene'), 0.8105520964898542)\n",
          "name": "stdout"
        }
      ]
    },
    {
      "metadata": {
        "trusted": true,
        "_uuid": "b7a4114beca31a5b2349bc1994e05ea9fced4ba2"
      },
      "cell_type": "code",
      "source": "final_output = semantic_result.collect()",
      "execution_count": 47,
      "outputs": []
    },
    {
      "metadata": {
        "trusted": true,
        "_uuid": "0770c226453ac4e3b681d9fef3effb8f20c0c424"
      },
      "cell_type": "code",
      "source": "len(final_output)",
      "execution_count": 48,
      "outputs": [
        {
          "output_type": "execute_result",
          "execution_count": 48,
          "data": {
            "text/plain": "3720"
          },
          "metadata": {}
        }
      ]
    },
    {
      "metadata": {
        "_kg_hide-output": true,
        "_kg_hide-input": false,
        "trusted": true,
        "_uuid": "24610bef96365dc6b977ddd3c0195708717f0693"
      },
      "cell_type": "code",
      "source": "final_output[:5]",
      "execution_count": 49,
      "outputs": [
        {
          "output_type": "execute_result",
          "execution_count": 49,
          "data": {
            "text/plain": "[(('gene_nmdars_gene', 'gene_bovine_rhodopsin_gene'), 0.8105520964898542),\n (('gene_nmdars_gene', 'disease_pkc_disease'), 0.7596701980985593),\n (('gene_nmdars_gene', 'disease_rgs_disease'), 0.6819155880242336),\n (('gene_nmdars_gene', 'disease_obesity_disease'), 0.608462311067258),\n (('gene_nmdars_gene', 'disease_kaposi_sarcoma_disease'), 0.5877393062155959)]"
          },
          "metadata": {}
        }
      ]
    },
    {
      "metadata": {
        "trusted": true,
        "_uuid": "250170b18fe5a353f11c4d0013466c6a908d5ee2"
      },
      "cell_type": "code",
      "source": "def Write_To_File(x):\n    \"\"\"\n    Taking our final output\n    and writes it file\n    \"\"\"\n    list_ = x\n    file = open(\"Final_Output.txt\", \"w\")\n    file.write('\\n'.join('%s %s' % x for x in list_))",
      "execution_count": 50,
      "outputs": []
    },
    {
      "metadata": {
        "trusted": true,
        "_uuid": "88f5d9a904851acc4918a060e94fb0f8c232915c"
      },
      "cell_type": "code",
      "source": "Write_To_File(final_output)",
      "execution_count": 51,
      "outputs": []
    },
    {
      "metadata": {
        "_uuid": "fb27bac7684fb465fa478c6043109a8e813a1aa1"
      },
      "cell_type": "markdown",
      "source": "Authors:\n# [Gael Blanchard](https://github.com/gaelblanchard)\n# [Lloyd Massiah](https://github.com/lazypassion)"
    }
  ],
  "metadata": {
    "kernelspec": {
      "display_name": "Python 3",
      "language": "python",
      "name": "python3"
    },
    "language_info": {
      "name": "python",
      "version": "3.6.4",
      "mimetype": "text/x-python",
      "codemirror_mode": {
        "name": "ipython",
        "version": 3
      },
      "pygments_lexer": "ipython3",
      "nbconvert_exporter": "python",
      "file_extension": ".py"
    }
  },
  "nbformat": 4,
  "nbformat_minor": 1
}